{
 "cells": [
  {
   "cell_type": "code",
   "execution_count": 2,
   "id": "d4b9fada-2201-49b6-b559-4557ca941e1f",
   "metadata": {},
   "outputs": [
    {
     "name": "stdout",
     "output_type": "stream",
     "text": [
      "[1, 4]\n",
      "[1, 2, 4]\n",
      "[5, 6]\n",
      "[5, 6, 9]\n",
      "[1, 2, 4, 5, 6, 9]\n"
     ]
    }
   ],
   "source": [
    "def merg(list1):\n",
    "    if len(list1)>1:\n",
    "        mid=len(list1)//2\n",
    "        left_list=list1[:mid]\n",
    "        right_list=list1[mid:]\n",
    "        merg(left_list)\n",
    "        merg(right_list)\n",
    "        i=0\n",
    "        j=0\n",
    "        k=0\n",
    "        while i<len(left_list) and j<len(right_list):\n",
    "            if left_list[i]<right_list[j]:\n",
    "                list1[k]=left_list[i]\n",
    "                i=i+1\n",
    "                k=k+1\n",
    "            else:\n",
    "                list1[k]=right_list[j]\n",
    "                j=j+1\n",
    "                k=k+1\n",
    "        while i<len(left_list):\n",
    "                list1[k]=left_list[i]\n",
    "                i=i+1\n",
    "                k=k+1\n",
    "        while j<len(right_list):\n",
    "            list1[k]=right_list[j]\n",
    "            j=j+1\n",
    "            k=k+1\n",
    "        print(list1)\n",
    "            \n",
    "arr=[2,4,1,9,5,6]\n",
    "merg(arr)"
   ]
  },
  {
   "cell_type": "code",
   "execution_count": null,
   "id": "58209d1d-6fcd-4a79-9669-44c515f26f85",
   "metadata": {},
   "outputs": [],
   "source": []
  }
 ],
 "metadata": {
  "kernelspec": {
   "display_name": "Python 3 (ipykernel)",
   "language": "python",
   "name": "python3"
  },
  "language_info": {
   "codemirror_mode": {
    "name": "ipython",
    "version": 3
   },
   "file_extension": ".py",
   "mimetype": "text/x-python",
   "name": "python",
   "nbconvert_exporter": "python",
   "pygments_lexer": "ipython3",
   "version": "3.12.7"
  }
 },
 "nbformat": 4,
 "nbformat_minor": 5
}
