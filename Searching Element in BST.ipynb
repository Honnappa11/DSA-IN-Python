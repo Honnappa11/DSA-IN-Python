{
 "cells": [
  {
   "cell_type": "code",
   "execution_count": 1,
   "id": "a3ae7d9e-9961-49e6-90ac-ddc7917517d0",
   "metadata": {},
   "outputs": [
    {
     "name": "stdout",
     "output_type": "stream",
     "text": [
      "Node is not found in tree\n"
     ]
    }
   ],
   "source": [
    "class BST:\n",
    "    def __init__(self,key):\n",
    "        self.key=key\n",
    "        self.lchild=None\n",
    "        self.rchild=None\n",
    "    def insertion(self,data):\n",
    "        if self.key is None:\n",
    "            self.key=data\n",
    "            return\n",
    "        if self.key==data:\n",
    "            return\n",
    "        if self.key > data:\n",
    "            if self.lchild is not None:\n",
    "                self.lchild.insertion(data)\n",
    "            else:\n",
    "                self.lchild=BST(data)\n",
    "        else:\n",
    "            if self.rchild is not None:\n",
    "                self.rchild.insertion(data)\n",
    "            else:\n",
    "                self.rchild=BST(data)\n",
    "    def searching(self,data):\n",
    "        if self.key == data:\n",
    "            print(\"Node Found\")\n",
    "            return\n",
    "        if self.key > data:\n",
    "            if self.lchild is not None:\n",
    "                self.lchild.searching(data)\n",
    "            else:\n",
    "                print(\"Node is not found in tree\")\n",
    "        else:\n",
    "            if self.rchild is not None:\n",
    "                self.rchild.searching(data)\n",
    "            else:\n",
    "                print(\"Node is not found in tree\")\n",
    "\n",
    "root=BST(100)\n",
    "list1=[200,50,900,34,567,234,58,54,345,600]\n",
    "for i in list1:\n",
    "    root.insertion(i)\n",
    "root.searching(500)"
   ]
  },
  {
   "cell_type": "code",
   "execution_count": null,
   "id": "1d7e6811-cfdf-4489-882f-1f5b9f361b93",
   "metadata": {},
   "outputs": [],
   "source": []
  }
 ],
 "metadata": {
  "kernelspec": {
   "display_name": "Python 3 (ipykernel)",
   "language": "python",
   "name": "python3"
  },
  "language_info": {
   "codemirror_mode": {
    "name": "ipython",
    "version": 3
   },
   "file_extension": ".py",
   "mimetype": "text/x-python",
   "name": "python",
   "nbconvert_exporter": "python",
   "pygments_lexer": "ipython3",
   "version": "3.12.7"
  }
 },
 "nbformat": 4,
 "nbformat_minor": 5
}
