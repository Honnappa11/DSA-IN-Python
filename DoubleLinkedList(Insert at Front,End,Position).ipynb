{
 "cells": [
  {
   "cell_type": "code",
   "execution_count": 9,
   "id": "cdb5029a-b1db-4a26-8ea7-63c035446a11",
   "metadata": {},
   "outputs": [
    {
     "name": "stdout",
     "output_type": "stream",
     "text": [
      "400 --> 150 --> 10 --> 100 --> 50 --> 30 --> 40 --> 1000 --> 500 --> "
     ]
    }
   ],
   "source": [
    "class Node:\n",
    "    def __init__(self,data):\n",
    "        self.data=data\n",
    "        self.next=None\n",
    "        self.prev=None\n",
    "class DLL:\n",
    "    def __init__(self):\n",
    "        self.head=None\n",
    "    def insert_benging(self,data):\n",
    "        nb=Node(data)\n",
    "        temp=self.head\n",
    "        nb.next=temp\n",
    "        temp.prev=nb\n",
    "        self.head=nb\n",
    "    def insert_end(self,data):\n",
    "        ne=Node(data)\n",
    "        temp=self.head\n",
    "        while temp.next is not None:\n",
    "            temp=temp.next\n",
    "        ne=Node(data)\n",
    "        temp.next=ne\n",
    "        ne.prev=temp\n",
    "    def insert_position(self,pos,data):\n",
    "        np=Node(data)\n",
    "        temp=self.head\n",
    "        for i in range(1,pos-1):\n",
    "            temp=temp.next\n",
    "        np=Node(data)\n",
    "        np.prev=temp\n",
    "        np.next=temp.next\n",
    "        temp.next=np\n",
    "        temp.next.prev=np\n",
    "    def display(self):\n",
    "        if self.head is None:\n",
    "            print(\"Empty List\")\n",
    "        else:\n",
    "            temp=self.head\n",
    "            while temp:\n",
    "                print(temp.data,'-->',end=\" \")\n",
    "                temp=temp.next\n",
    "L=DLL()\n",
    "n1=Node(50)\n",
    "L.head=n1\n",
    "n2=Node(30)\n",
    "n1.next=n2\n",
    "n2.prev=n1\n",
    "n3=Node(40)\n",
    "n2.next=n3\n",
    "n3.prev=n2\n",
    "L.insert_benging(100)\n",
    "L.insert_benging(400)\n",
    "L.insert_end(1000)\n",
    "L.insert_end(500)\n",
    "L.insert_position(2,150)\n",
    "L.insert_position(3,10)\n",
    "L.display()\n"
   ]
  },
  {
   "cell_type": "code",
   "execution_count": null,
   "id": "98bf544b-7f05-4530-a08c-bb0490eb9397",
   "metadata": {},
   "outputs": [],
   "source": []
  }
 ],
 "metadata": {
  "kernelspec": {
   "display_name": "Python 3 (ipykernel)",
   "language": "python",
   "name": "python3"
  },
  "language_info": {
   "codemirror_mode": {
    "name": "ipython",
    "version": 3
   },
   "file_extension": ".py",
   "mimetype": "text/x-python",
   "name": "python",
   "nbconvert_exporter": "python",
   "pygments_lexer": "ipython3",
   "version": "3.12.7"
  }
 },
 "nbformat": 4,
 "nbformat_minor": 5
}
