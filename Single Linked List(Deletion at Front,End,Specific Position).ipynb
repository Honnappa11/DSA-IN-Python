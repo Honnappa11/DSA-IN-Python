{
 "cells": [
  {
   "cell_type": "code",
   "execution_count": 6,
   "id": "480f3947-86a1-47d2-a35e-8e01f6209a9e",
   "metadata": {},
   "outputs": [
    {
     "name": "stdout",
     "output_type": "stream",
     "text": [
      "30 --> 60 --> "
     ]
    }
   ],
   "source": [
    "class Node:\n",
    "    def __init__(self,data):\n",
    "        self.data=data\n",
    "        self.next=None\n",
    "class LinkedList:\n",
    "    def __init__(self):\n",
    "        self.head=None\n",
    "    def display(self):\n",
    "        if self.head is None:\n",
    "            print(\"Linked List is empty\")\n",
    "        else:\n",
    "            temp=self.head\n",
    "            while temp:\n",
    "                print(temp.data,'-->',end=\" \")\n",
    "                temp=temp.next\n",
    "    def delete_benging(self):\n",
    "        temp=self.head\n",
    "        self.head=temp.next\n",
    "        temp.next=None\n",
    "    def delete_end(self):\n",
    "        temp=self.head.next\n",
    "        prev=self.head\n",
    "        while temp.next is not None:\n",
    "            temp=temp.next\n",
    "            prev=prev.next\n",
    "        prev.next=None\n",
    "    def delete_position(self,pos):\n",
    "        temp=self.head.next\n",
    "        prev=self.head\n",
    "        for i in range(1,pos-1):\n",
    "            temp=temp.next\n",
    "            prev=prev.next\n",
    "        prev.next=temp.next\n",
    "L1=LinkedList()\n",
    "n1=Node(30)\n",
    "L1.head=n1\n",
    "n2=Node(50)\n",
    "n1.next=n2\n",
    "n3=Node(60)\n",
    "n2.next=n3\n",
    "#L1.delete_benging()\n",
    "#L1.delete_end()\n",
    "L1.delete_position(1)\n",
    "L1.display()"
   ]
  },
  {
   "cell_type": "code",
   "execution_count": null,
   "id": "ceced5e5-a0d2-4ec0-adbb-1b773868ac87",
   "metadata": {},
   "outputs": [],
   "source": []
  }
 ],
 "metadata": {
  "kernelspec": {
   "display_name": "Python 3 (ipykernel)",
   "language": "python",
   "name": "python3"
  },
  "language_info": {
   "codemirror_mode": {
    "name": "ipython",
    "version": 3
   },
   "file_extension": ".py",
   "mimetype": "text/x-python",
   "name": "python",
   "nbconvert_exporter": "python",
   "pygments_lexer": "ipython3",
   "version": "3.12.7"
  }
 },
 "nbformat": 4,
 "nbformat_minor": 5
}
