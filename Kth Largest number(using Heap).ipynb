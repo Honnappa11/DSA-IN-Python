{
 "cells": [
  {
   "cell_type": "code",
   "execution_count": 6,
   "id": "c1232eda-5171-438c-8db5-e9656255262f",
   "metadata": {},
   "outputs": [],
   "source": [
    "import heapq\n",
    "def function(nums,k):\n",
    "    heap=[]\n",
    "    for n in nums:\n",
    "        heapq.heappush(heap,n)\n",
    "        if len(heap)>k:\n",
    "            heapq.heappop(heap)\n",
    "    return heap[\n",
    "        "
   ]
  },
  {
   "cell_type": "code",
   "execution_count": 7,
   "id": "2bcf21d6-5b03-4127-a880-0d8c928faf11",
   "metadata": {},
   "outputs": [
    {
     "data": {
      "text/plain": [
       "[6, 7, 8]"
      ]
     },
     "execution_count": 7,
     "metadata": {},
     "output_type": "execute_result"
    }
   ],
   "source": [
    "a=[2,4,6,7,8]\n",
    "k=3\n",
    "function(a,k)"
   ]
  },
  {
   "cell_type": "code",
   "execution_count": null,
   "id": "4c72a416-98f2-46d8-bdf8-982c77800236",
   "metadata": {},
   "outputs": [],
   "source": []
  }
 ],
 "metadata": {
  "kernelspec": {
   "display_name": "Python 3 (ipykernel)",
   "language": "python",
   "name": "python3"
  },
  "language_info": {
   "codemirror_mode": {
    "name": "ipython",
    "version": 3
   },
   "file_extension": ".py",
   "mimetype": "text/x-python",
   "name": "python",
   "nbconvert_exporter": "python",
   "pygments_lexer": "ipython3",
   "version": "3.12.7"
  }
 },
 "nbformat": 4,
 "nbformat_minor": 5
}
