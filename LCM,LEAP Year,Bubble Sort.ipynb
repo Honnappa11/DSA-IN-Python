{
 "cells": [
  {
   "cell_type": "code",
   "execution_count": 2,
   "id": "98692d02-f5e9-4d9c-82a4-0557dd94d6b2",
   "metadata": {},
   "outputs": [
    {
     "name": "stdin",
     "output_type": "stream",
     "text": [
      "enter the first number: 10\n",
      "enter the second number: 6\n"
     ]
    },
    {
     "name": "stdout",
     "output_type": "stream",
     "text": [
      "30\n"
     ]
    }
   ],
   "source": [
    "# LCM\n",
    "a=int(input(\"enter the first number:\"))\n",
    "b=int(input(\"enter the second number:\"))\n",
    "if a>b:\n",
    "    num=a\n",
    "    v=a\n",
    "else:\n",
    "    num=b\n",
    "    v=b\n",
    "while True:\n",
    "    if num%a==0 and num%b==0:\n",
    "        print(num)\n",
    "        break\n",
    "    else:\n",
    "        num=num+v"
   ]
  },
  {
   "cell_type": "code",
   "execution_count": 5,
   "id": "d306789d-8cc6-4a3b-83dd-0f3e7cb84658",
   "metadata": {},
   "outputs": [
    {
     "name": "stdin",
     "output_type": "stream",
     "text": [
      "enter the year: 1700\n"
     ]
    },
    {
     "name": "stdout",
     "output_type": "stream",
     "text": [
      "Not leap year\n"
     ]
    }
   ],
   "source": [
    "# Leap Year\n",
    "year=int(input(\"enter the year:\"))\n",
    "if year%4==0:\n",
    "    if year%100==0:\n",
    "        if year%400==0:\n",
    "            print(\"It is leap year\")\n",
    "        else:\n",
    "            print(\"Not leap year\")\n",
    "    else:\n",
    "        print(\"Not leap year\")\n",
    "    \n",
    "else:\n",
    "    print(\"Not leap year\")\n",
    "    \n",
    "    "
   ]
  },
  {
   "cell_type": "code",
   "execution_count": 16,
   "id": "946afc82-7944-4921-bf0b-c6210436124e",
   "metadata": {},
   "outputs": [],
   "source": [
    "# Bubble Sort\n",
    "def bubble_sort(arr):\n",
    "    for j in range(len(arr)-1):\n",
    "        \n",
    "        for i in range(len(arr)-1):\n",
    "            if arr[i]>arr[i+1]:\n",
    "                arr[i],arr[i+1]=arr[i+1],arr[i]\n",
    "    print(arr)"
   ]
  },
  {
   "cell_type": "code",
   "execution_count": 17,
   "id": "57f25040-0298-43bc-9c9c-ee370f120e13",
   "metadata": {},
   "outputs": [
    {
     "name": "stdout",
     "output_type": "stream",
     "text": [
      "[1, 2, 3, 5, 9]\n"
     ]
    }
   ],
   "source": [
    "a=[3,5,2,1,9]\n",
    "bubble_sort(a)"
   ]
  },
  {
   "cell_type": "code",
   "execution_count": null,
   "id": "6b5e7bb9-dfae-41a1-bdbd-468e7defca1f",
   "metadata": {},
   "outputs": [
    {
     "name": "stdin",
     "output_type": "stream",
     "text": [
      "enter the number: 5\n",
      "enter the second number: 10\n"
     ]
    }
   ],
   "source": [
    "a=int(input(\"enter the number:\"))\n",
    "b=int(input(\"enter the second number:\"))\n",
    "for num in range(a,b+1):\n",
    "    if num>0:\n",
    "        while True:\n",
    "            \n",
    "            for i in range(2,num):\n",
    "                if num%i==0:\n",
    "                    break\n",
    "        print(num)"
   ]
  },
  {
   "cell_type": "code",
   "execution_count": null,
   "id": "912f1adf-bca3-45a3-aab6-e96494115d0d",
   "metadata": {},
   "outputs": [],
   "source": []
  }
 ],
 "metadata": {
  "kernelspec": {
   "display_name": "Python 3 (ipykernel)",
   "language": "python",
   "name": "python3"
  },
  "language_info": {
   "codemirror_mode": {
    "name": "ipython",
    "version": 3
   },
   "file_extension": ".py",
   "mimetype": "text/x-python",
   "name": "python",
   "nbconvert_exporter": "python",
   "pygments_lexer": "ipython3",
   "version": "3.12.7"
  }
 },
 "nbformat": 4,
 "nbformat_minor": 5
}
