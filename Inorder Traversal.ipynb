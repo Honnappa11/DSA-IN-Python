{
 "cells": [
  {
   "cell_type": "code",
   "execution_count": 10,
   "id": "c6d35883-73d3-4c1f-8e76-b3e090f1364f",
   "metadata": {},
   "outputs": [
    {
     "name": "stdout",
     "output_type": "stream",
     "text": [
      "Inorder Traversal :\n",
      "5 10 43 56 87 90 "
     ]
    }
   ],
   "source": [
    "class BST:\n",
    "    def __init__(self,key):\n",
    "        self.key=key\n",
    "        self.lchild=None\n",
    "        self.rchild=None\n",
    "    def insertion(self,data):\n",
    "        if self.key is None:\n",
    "            self.key=data\n",
    "            return\n",
    "        if self.key == data:\n",
    "            return\n",
    "        if self.key>data:\n",
    "            if self.lchild is not None:\n",
    "                self.lchild.insertion(data)\n",
    "            else:\n",
    "                self.lchild=BST(data)\n",
    "        else:\n",
    "            if self.rchild is not None:\n",
    "                self.rchild.insertion(data)\n",
    "            else:\n",
    "                self.rchild=BST(data)\n",
    "    def Inorder(self):\n",
    "        if self.lchild is not None:\n",
    "            self.lchild.Inorder()\n",
    "        print(self.key,end=\" \")\n",
    "        if self.rchild is not None:\n",
    "            self.rchild.Inorder()\n",
    "root=BST(10)\n",
    "list1=[5,87,56,43,90]\n",
    "for i in list1:\n",
    "    root.insertion(i)\n",
    "print(\"Inorder Traversal :\")\n",
    "root.Inorder()"
   ]
  },
  {
   "cell_type": "code",
   "execution_count": null,
   "id": "af072efa-40a1-4ed7-ad3c-f7f5326c0304",
   "metadata": {},
   "outputs": [],
   "source": []
  }
 ],
 "metadata": {
  "kernelspec": {
   "display_name": "Python 3 (ipykernel)",
   "language": "python",
   "name": "python3"
  },
  "language_info": {
   "codemirror_mode": {
    "name": "ipython",
    "version": 3
   },
   "file_extension": ".py",
   "mimetype": "text/x-python",
   "name": "python",
   "nbconvert_exporter": "python",
   "pygments_lexer": "ipython3",
   "version": "3.12.7"
  }
 },
 "nbformat": 4,
 "nbformat_minor": 5
}
