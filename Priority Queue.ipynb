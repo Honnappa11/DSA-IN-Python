{
 "cells": [
  {
   "cell_type": "markdown",
   "id": "a8403639-1889-4af2-a61a-f49003988838",
   "metadata": {},
   "source": [
    "### Priority Queue "
   ]
  },
  {
   "cell_type": "markdown",
   "id": "42e9f049-8e39-423a-a609-78e80a50d769",
   "metadata": {},
   "source": [
    "###### A priority queue is a data structure where elements are served based on their priority, rather than their order of arrival (like a regular queue). Each element has a priority, and the element with the highest priority is dequeued first."
   ]
  },
  {
   "cell_type": "code",
   "execution_count": 1,
   "id": "7fda5164-32ed-43e7-98ff-2d2e40947ff4",
   "metadata": {},
   "outputs": [],
   "source": [
    "p_queue=[]\n"
   ]
  },
  {
   "cell_type": "code",
   "execution_count": 2,
   "id": "6d05a904-64fc-46d3-a961-9502081d7ecc",
   "metadata": {},
   "outputs": [],
   "source": [
    "p_queue.append(10)\n",
    "p_queue.append(30)\n",
    "p_queue.append(60)"
   ]
  },
  {
   "cell_type": "code",
   "execution_count": 3,
   "id": "94777e10-487a-4520-8928-43d3e3438d63",
   "metadata": {},
   "outputs": [
    {
     "data": {
      "text/plain": [
       "[10, 30, 60]"
      ]
     },
     "execution_count": 3,
     "metadata": {},
     "output_type": "execute_result"
    }
   ],
   "source": [
    "p_queue"
   ]
  },
  {
   "cell_type": "code",
   "execution_count": 4,
   "id": "93b1ecd1-d8bf-4f45-9a52-e96913064b1b",
   "metadata": {},
   "outputs": [],
   "source": [
    "p_queue.append(25)\n",
    "p_queue.append(19)\n"
   ]
  },
  {
   "cell_type": "code",
   "execution_count": 5,
   "id": "6815e463-e129-4033-aaa2-2da429c61120",
   "metadata": {},
   "outputs": [
    {
     "data": {
      "text/plain": [
       "[10, 30, 60, 25, 19]"
      ]
     },
     "execution_count": 5,
     "metadata": {},
     "output_type": "execute_result"
    }
   ],
   "source": [
    "p_queue"
   ]
  },
  {
   "cell_type": "code",
   "execution_count": 6,
   "id": "887371b4-1d48-4def-88bb-f65187e03bb5",
   "metadata": {},
   "outputs": [],
   "source": [
    "p_queue.sort()"
   ]
  },
  {
   "cell_type": "markdown",
   "id": "dda34f4a-b199-4d82-8840-d08c9d2b21e2",
   "metadata": {},
   "source": [
    "###### we are taking highest value as high priority"
   ]
  },
  {
   "cell_type": "code",
   "execution_count": 15,
   "id": "5f5d7273-7198-4915-8004-91a43ebae100",
   "metadata": {},
   "outputs": [
    {
     "data": {
      "text/plain": [
       "[30, 60]"
      ]
     },
     "execution_count": 15,
     "metadata": {},
     "output_type": "execute_result"
    }
   ],
   "source": [
    "p_queue"
   ]
  },
  {
   "cell_type": "code",
   "execution_count": 16,
   "id": "7ed15d16-ba2e-43cc-abf9-002dfd5c85ba",
   "metadata": {},
   "outputs": [
    {
     "data": {
      "text/plain": [
       "60"
      ]
     },
     "execution_count": 16,
     "metadata": {},
     "output_type": "execute_result"
    }
   ],
   "source": [
    "p_queue.pop()"
   ]
  },
  {
   "cell_type": "code",
   "execution_count": 17,
   "id": "89f03450-acb0-423a-81dd-9b5a3229db48",
   "metadata": {},
   "outputs": [
    {
     "data": {
      "text/plain": [
       "30"
      ]
     },
     "execution_count": 17,
     "metadata": {},
     "output_type": "execute_result"
    }
   ],
   "source": [
    "p_queue.pop()"
   ]
  },
  {
   "cell_type": "code",
   "execution_count": 18,
   "id": "474477ed-833a-45ff-bc5d-ad09e86e0504",
   "metadata": {},
   "outputs": [
    {
     "ename": "IndexError",
     "evalue": "pop from empty list",
     "output_type": "error",
     "traceback": [
      "\u001b[1;31m---------------------------------------------------------------------------\u001b[0m",
      "\u001b[1;31mIndexError\u001b[0m                                Traceback (most recent call last)",
      "Cell \u001b[1;32mIn[18], line 1\u001b[0m\n\u001b[1;32m----> 1\u001b[0m p_queue\u001b[38;5;241m.\u001b[39mpop()\n",
      "\u001b[1;31mIndexError\u001b[0m: pop from empty list"
     ]
    }
   ],
   "source": [
    "p_queue.pop()"
   ]
  },
  {
   "cell_type": "code",
   "execution_count": 25,
   "id": "40fa273f-4b41-40c7-95aa-16aedd385959",
   "metadata": {},
   "outputs": [],
   "source": [
    "# using Priority Queue\n",
    "import queue\n",
    "\n",
    "q=queue.PriorityQueue()\n",
    "q.put(10)\n",
    "q.put(23)\n",
    "q.put(15)"
   ]
  },
  {
   "cell_type": "markdown",
   "id": "6d183b67-93c3-4c21-926f-82c27ea99e58",
   "metadata": {},
   "source": [
    "###### It will taking lowest value as high priority"
   ]
  },
  {
   "cell_type": "code",
   "execution_count": 24,
   "id": "6cdc9d65-f7dc-4840-8187-90b3dd3f7069",
   "metadata": {},
   "outputs": [
    {
     "data": {
      "text/plain": [
       "10"
      ]
     },
     "execution_count": 24,
     "metadata": {},
     "output_type": "execute_result"
    }
   ],
   "source": [
    "q.get()"
   ]
  },
  {
   "cell_type": "code",
   "execution_count": 26,
   "id": "145b46c4-f940-4827-bc62-8fe58bb7d6c9",
   "metadata": {},
   "outputs": [
    {
     "data": {
      "text/plain": [
       "10"
      ]
     },
     "execution_count": 26,
     "metadata": {},
     "output_type": "execute_result"
    }
   ],
   "source": [
    "q.get()"
   ]
  },
  {
   "cell_type": "code",
   "execution_count": 27,
   "id": "3045d760-2637-4192-a359-7810192b57a2",
   "metadata": {},
   "outputs": [
    {
     "data": {
      "text/plain": [
       "15"
      ]
     },
     "execution_count": 27,
     "metadata": {},
     "output_type": "execute_result"
    }
   ],
   "source": [
    "q.get()"
   ]
  },
  {
   "cell_type": "code",
   "execution_count": 28,
   "id": "fa8e06f9-1d2b-48e5-9436-b8ed01dfdf51",
   "metadata": {},
   "outputs": [
    {
     "data": {
      "text/plain": [
       "23"
      ]
     },
     "execution_count": 28,
     "metadata": {},
     "output_type": "execute_result"
    }
   ],
   "source": [
    "q.get()"
   ]
  }
 ],
 "metadata": {
  "kernelspec": {
   "display_name": "Python 3 (ipykernel)",
   "language": "python",
   "name": "python3"
  },
  "language_info": {
   "codemirror_mode": {
    "name": "ipython",
    "version": 3
   },
   "file_extension": ".py",
   "mimetype": "text/x-python",
   "name": "python",
   "nbconvert_exporter": "python",
   "pygments_lexer": "ipython3",
   "version": "3.12.7"
  }
 },
 "nbformat": 4,
 "nbformat_minor": 5
}
