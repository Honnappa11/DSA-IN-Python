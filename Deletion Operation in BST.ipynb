{
 "cells": [
  {
   "cell_type": "code",
   "execution_count": 9,
   "id": "c02dc8fb-a028-4245-b1ea-9ff348279926",
   "metadata": {},
   "outputs": [
    {
     "name": "stdout",
     "output_type": "stream",
     "text": [
      "10 2 1 4 7 9 45 42 12 41 \n",
      "12 2 1 4 7 9 45 42 41 "
     ]
    }
   ],
   "source": [
    "class BST:\n",
    "    def __init__(self,key):\n",
    "        self.key=key\n",
    "        self.lchild=None\n",
    "        self.rchild=None\n",
    "    def insertion(self,data):\n",
    "        if self.key is None:\n",
    "            self.key=data\n",
    "            return\n",
    "        if self.key==data:\n",
    "            return\n",
    "        if self.key>data:\n",
    "            if self.lchild is not None:\n",
    "                self.lchild.insertion(data)\n",
    "            else:\n",
    "                self.lchild=BST(data)\n",
    "        else:\n",
    "            if self.rchild is not None:\n",
    "                self.rchild.insertion(data)\n",
    "            else:\n",
    "                self.rchild=BST(data)\n",
    "    def delete(self,data):\n",
    "        if self.key is None:\n",
    "            print(\"tree is empty\")\n",
    "        if self.key>data:\n",
    "            if self.lchild is not None:\n",
    "                self.lchild=self.lchild.delete(data)\n",
    "            else:\n",
    "                print(\"node is not present in tree\")\n",
    "        elif self.key<data:\n",
    "            if self.rchild is not None:\n",
    "                self.rchild=self.rchild.delete(data)\n",
    "            else:\n",
    "                print(\"node is not present in tree\")\n",
    "        else:\n",
    "            if self.lchild is None:\n",
    "                temp=self.rchild\n",
    "                self=None\n",
    "                return temp\n",
    "            if self.rchild is None:\n",
    "                temp=self.lchild\n",
    "                self=None\n",
    "                return temp\n",
    "            node=self.rchild\n",
    "            while node.lchild:\n",
    "                node=node.lchild\n",
    "            self.key=node.key\n",
    "            self.rchild=self.rchild.delete(node.key)\n",
    "        return self\n",
    "            \n",
    "    def preorder(self):\n",
    "        print(self.key,end=\" \")\n",
    "        if self.lchild is not None:\n",
    "            self.lchild.preorder()\n",
    "        if self.rchild is not None:\n",
    "            self.rchild.preorder()\n",
    "root=BST(10)\n",
    "list1=[45,2,4,7,9,42,12,41,1]\n",
    "for i in list1:\n",
    "    root.insertion(i)\n",
    "root.preorder()\n",
    "root.delete(10)\n",
    "print()\n",
    "root.preorder()"
   ]
  },
  {
   "cell_type": "code",
   "execution_count": null,
   "id": "2a15fec0-e781-4956-b210-35f5ac5323e8",
   "metadata": {},
   "outputs": [],
   "source": []
  }
 ],
 "metadata": {
  "kernelspec": {
   "display_name": "Python 3 (ipykernel)",
   "language": "python",
   "name": "python3"
  },
  "language_info": {
   "codemirror_mode": {
    "name": "ipython",
    "version": 3
   },
   "file_extension": ".py",
   "mimetype": "text/x-python",
   "name": "python",
   "nbconvert_exporter": "python",
   "pygments_lexer": "ipython3",
   "version": "3.12.7"
  }
 },
 "nbformat": 4,
 "nbformat_minor": 5
}
