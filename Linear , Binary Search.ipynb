{
 "cells": [
  {
   "cell_type": "code",
   "execution_count": 2,
   "id": "c473ec35-b6b0-4b69-84dc-d5b52e258f55",
   "metadata": {},
   "outputs": [
    {
     "name": "stdout",
     "output_type": "stream",
     "text": [
      "element 5 is found at 2 index\n"
     ]
    }
   ],
   "source": [
    "#Linear Search\n",
    "def linearsearch(arr,target):\n",
    "    for i in range(len(arr)):\n",
    "        if arr[i]==target:\n",
    "            return i\n",
    "    return -1\n",
    "arr=[3,8,5,7,90,56]\n",
    "target=5\n",
    "result=linearsearch(arr,target)\n",
    "if result!=-1:\n",
    "    print(f\"element {target} is found at {result} index\")\n",
    "else:\n",
    "    print(\"Not found\")"
   ]
  },
  {
   "cell_type": "code",
   "execution_count": 4,
   "id": "751f0d51-e3a9-45b1-88ba-7f74b054785c",
   "metadata": {},
   "outputs": [
    {
     "name": "stdout",
     "output_type": "stream",
     "text": [
      "element 40 found at 2 index\n"
     ]
    }
   ],
   "source": [
    "#Binary Search\n",
    "def binarySearch(arr,target):\n",
    "    low=0\n",
    "    high=len(arr)-1\n",
    "    while low<=high:\n",
    "        mid=(low+high)//2\n",
    "        if arr[mid]==target:\n",
    "            return mid\n",
    "        elif arr[mid]<target:\n",
    "            low=mid+1\n",
    "        else:\n",
    "            high=mid-1\n",
    "    return -1\n",
    "arr=[20,30,40,50,60,70]\n",
    "target=40\n",
    "result=binarySearch(arr,target)\n",
    "if result!=-1:\n",
    "    print(f\"element {target} found at {result} index\")\n",
    "else:\n",
    "    print(\"Not found\")"
   ]
  },
  {
   "cell_type": "code",
   "execution_count": null,
   "id": "d614ed12-5363-45b7-9922-fbdbe7b724b3",
   "metadata": {},
   "outputs": [],
   "source": []
  }
 ],
 "metadata": {
  "kernelspec": {
   "display_name": "Python 3 (ipykernel)",
   "language": "python",
   "name": "python3"
  },
  "language_info": {
   "codemirror_mode": {
    "name": "ipython",
    "version": 3
   },
   "file_extension": ".py",
   "mimetype": "text/x-python",
   "name": "python",
   "nbconvert_exporter": "python",
   "pygments_lexer": "ipython3",
   "version": "3.12.7"
  }
 },
 "nbformat": 4,
 "nbformat_minor": 5
}
