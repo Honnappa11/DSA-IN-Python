{
 "cells": [
  {
   "cell_type": "code",
   "execution_count": 6,
   "id": "e3f6b8d4-28da-40c3-95be-9fa0337ad939",
   "metadata": {},
   "outputs": [
    {
     "name": "stdout",
     "output_type": "stream",
     "text": [
      "10 5 87 56 43 90 Preorder Traversal : None\n"
     ]
    }
   ],
   "source": [
    "class BST:\n",
    "    def __init__(self,key):\n",
    "        self.key=key\n",
    "        self.lchild=None\n",
    "        self.rchild=None\n",
    "    def insertion(self,data):\n",
    "        if self.key is None:\n",
    "            self.key=data\n",
    "            return\n",
    "        if self.key==data:\n",
    "            return\n",
    "        if self.key > data:\n",
    "            if self.lchild is not None:\n",
    "                self.lchild.insertion(data)\n",
    "            else:\n",
    "                self.lchild=BST(data)\n",
    "        else:\n",
    "            if self.rchild is not None:\n",
    "                self.rchild.insertion(data)\n",
    "            else:\n",
    "                self.rchild=BST(data)\n",
    "    def preorder(self):\n",
    "        print(self.key,end=\" \")\n",
    "        if self.lchild is not None:\n",
    "            self.lchild.preorder()\n",
    "        if self.rchild is not None:\n",
    "            self.rchild.preorder()\n",
    "root=BST(10)\n",
    "list1=[5,87,56,43,90]\n",
    "for i in list1:\n",
    "    root.insertion(i)\n",
    "print(f\"Preorder Traversal :{root.preorder())"
   ]
  },
  {
   "cell_type": "code",
   "execution_count": null,
   "id": "37e687c0-ea23-4f3e-9d2e-b4a93864a368",
   "metadata": {},
   "outputs": [],
   "source": []
  }
 ],
 "metadata": {
  "kernelspec": {
   "display_name": "Python 3 (ipykernel)",
   "language": "python",
   "name": "python3"
  },
  "language_info": {
   "codemirror_mode": {
    "name": "ipython",
    "version": 3
   },
   "file_extension": ".py",
   "mimetype": "text/x-python",
   "name": "python",
   "nbconvert_exporter": "python",
   "pygments_lexer": "ipython3",
   "version": "3.12.7"
  }
 },
 "nbformat": 4,
 "nbformat_minor": 5
}
