{
 "cells": [
  {
   "cell_type": "code",
   "execution_count": 5,
   "id": "fb271e55-00b3-46e9-999a-5a2224029798",
   "metadata": {},
   "outputs": [
    {
     "name": "stdout",
     "output_type": "stream",
     "text": [
      "{'A': [], 'B': [], 'C': [], 'D': []}\n",
      "---------------------------\n",
      "{'A': [['B', 2]], 'B': [['A', 2], ['C', 3]], 'C': [['B', 3], ['D', 1]], 'D': [['C', 1]]}\n",
      "******************************************\n"
     ]
    },
    {
     "data": {
      "text/plain": [
       "{'A': 0, 'B': 2, 'C': 5, 'D': 6}"
      ]
     },
     "execution_count": 5,
     "metadata": {},
     "output_type": "execute_result"
    }
   ],
   "source": [
    "import heapq\n",
    "def add_node(v):\n",
    "    if v in graph:\n",
    "        print(v,\"it is already present in graph\")\n",
    "    else:\n",
    "        graph[v]=[]\n",
    "def add_edges(v1,v2,cost):\n",
    "    if v1 not in graph:\n",
    "        print(v1,\"it is not present in graph\")\n",
    "    if v2 not in graph:\n",
    "        print(v2,\"it is not present in graph\")\n",
    "    else:\n",
    "        graph[v1].append([v2,cost])\n",
    "        graph[v2].append([v1,cost])\n",
    "def dijkstra(graph,start):\n",
    "    distance={item:float('inf') for item in graph}\n",
    "    distance[start]=0\n",
    "    queue=[(0,start)]\n",
    "    while queue:\n",
    "        current_distance,current_node=heapq.heappop(queue)\n",
    "        for node,weight in graph[current_node]:\n",
    "            new_distance=current_distance+weight\n",
    "            if new_distance<distance[node]:\n",
    "                distance[node]=new_distance\n",
    "                heapq.heappush(queue,(new_distance,node))\n",
    "    return distance\n",
    "        \n",
    "graph={}\n",
    "add_node(\"A\")\n",
    "add_node(\"B\")\n",
    "add_node(\"C\")\n",
    "add_node(\"D\")\n",
    "print(graph)\n",
    "add_edges(\"A\",\"B\",2)\n",
    "add_edges(\"B\",\"C\",3)\n",
    "add_edges(\"C\",\"D\",1)\n",
    "print('---------------------------')\n",
    "print(graph)\n",
    "print('Dij')\n",
    "dijkstra(graph,\"A\")"
   ]
  },
  {
   "cell_type": "code",
   "execution_count": null,
   "id": "879a6204-a901-4967-a12f-7a2bafef37cc",
   "metadata": {},
   "outputs": [],
   "source": []
  }
 ],
 "metadata": {
  "kernelspec": {
   "display_name": "Python 3 (ipykernel)",
   "language": "python",
   "name": "python3"
  },
  "language_info": {
   "codemirror_mode": {
    "name": "ipython",
    "version": 3
   },
   "file_extension": ".py",
   "mimetype": "text/x-python",
   "name": "python",
   "nbconvert_exporter": "python",
   "pygments_lexer": "ipython3",
   "version": "3.12.7"
  }
 },
 "nbformat": 4,
 "nbformat_minor": 5
}
