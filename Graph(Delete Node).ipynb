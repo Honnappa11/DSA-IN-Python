{
 "cells": [
  {
   "cell_type": "code",
   "execution_count": 17,
   "id": "603e536d-483e-4580-ad37-47eea4263df6",
   "metadata": {},
   "outputs": [
    {
     "name": "stdout",
     "output_type": "stream",
     "text": [
      "['A', 'B', 'C', 'D']\n",
      "[[0, 1, 0, 1], [1, 0, 1, 1], [0, 1, 0, 0], [1, 1, 0, 0]]\n",
      "---------------------\n",
      "0 1 0 1 \n",
      "1 0 1 1 \n",
      "0 1 0 0 \n",
      "1 1 0 0 \n",
      "----------------------\n",
      "0 1 1 \n",
      "1 0 1 \n",
      "1 1 0 \n"
     ]
    }
   ],
   "source": [
    "def add_node(v):\n",
    "    global node_count\n",
    "    if v in nodes:\n",
    "        print(\"It is already present in node\")\n",
    "    else:\n",
    "        node_count=node_count+1\n",
    "        nodes.append(v)\n",
    "        for i in graph:\n",
    "            i.append(0)\n",
    "        temp=[]\n",
    "        for i in range(node_count):\n",
    "            temp.append(0)\n",
    "        graph.append(temp)\n",
    "def add_edges(v1,v2):\n",
    "    if v1 not in nodes:\n",
    "        print(v1,\"it is not present in node\")\n",
    "    if v2 not in nodes:\n",
    "        print(v2,\"it is not present in node\")\n",
    "    else:\n",
    "        index1=nodes.index(v1)\n",
    "        index2=nodes.index(v2)\n",
    "        graph[index1][index2]=1\n",
    "        graph[index2][index1]=1\n",
    "def delete_node(v):\n",
    "    global node_count\n",
    "    if v not in nodes:\n",
    "        print(v,\"It is not in node\")\n",
    "    else:\n",
    "        index1=nodes.index(v)\n",
    "        node_count=node_count-1\n",
    "        nodes.remove(v)\n",
    "        graph.pop(index1)\n",
    "        for i in graph:\n",
    "            i.pop(index1)\n",
    "def display():\n",
    "    for i in range(node_count):\n",
    "        for j in range(node_count):\n",
    "            print(graph[i][j],end=\" \")\n",
    "        print()\n",
    "nodes=[]\n",
    "graph=[]\n",
    "node_count=0\n",
    "add_node(\"A\")\n",
    "add_node(\"B\")\n",
    "add_node(\"C\")\n",
    "add_node(\"D\")\n",
    "add_edges(\"A\",\"B\")\n",
    "add_edges(\"A\",\"D\")\n",
    "add_edges(\"B\",\"D\")\n",
    "add_edges(\"C\",\"B\")\n",
    "print(nodes)\n",
    "print(graph)\n",
    "print('---------------------')\n",
    "\n",
    "display()\n",
    "delete_node(\"C\")\n",
    "print('----------------------')\n",
    "display()"
   ]
  },
  {
   "cell_type": "code",
   "execution_count": null,
   "id": "d98744f1-d843-4552-8ef1-bc844cb642fa",
   "metadata": {},
   "outputs": [],
   "source": []
  }
 ],
 "metadata": {
  "kernelspec": {
   "display_name": "Python 3 (ipykernel)",
   "language": "python",
   "name": "python3"
  },
  "language_info": {
   "codemirror_mode": {
    "name": "ipython",
    "version": 3
   },
   "file_extension": ".py",
   "mimetype": "text/x-python",
   "name": "python",
   "nbconvert_exporter": "python",
   "pygments_lexer": "ipython3",
   "version": "3.12.7"
  }
 },
 "nbformat": 4,
 "nbformat_minor": 5
}
