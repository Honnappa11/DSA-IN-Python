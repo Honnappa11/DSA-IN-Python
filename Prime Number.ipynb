{
 "cells": [
  {
   "cell_type": "code",
   "execution_count": 7,
   "id": "6738f5db-4f67-46d4-a22f-6b3ef5b787e7",
   "metadata": {},
   "outputs": [
    {
     "name": "stdin",
     "output_type": "stream",
     "text": [
      "enter the starting number: 5\n",
      "enter the second number: 100\n"
     ]
    },
    {
     "name": "stdout",
     "output_type": "stream",
     "text": [
      "5 7 11 13 17 19 23 29 31 37 41 43 47 53 59 61 67 71 73 79 83 89 97 "
     ]
    }
   ],
   "source": [
    "# Prime Numbers\n",
    "a=int(input(\"enter the starting number:\"))\n",
    "b=int(input(\"enter the second number:\"))\n",
    "for i in range(a,b+1):\n",
    "    if i>0:\n",
    "        for num in range(2,i):\n",
    "           if i%num==0:\n",
    "               break\n",
    "        else:\n",
    "            print(i,end=\" \")"
   ]
  },
  {
   "cell_type": "code",
   "execution_count": 34,
   "id": "5af44e04-5e17-462e-b0f8-23e0ccbe03d2",
   "metadata": {},
   "outputs": [
    {
     "name": "stdin",
     "output_type": "stream",
     "text": [
      "enter the number: 35\n"
     ]
    },
    {
     "name": "stdout",
     "output_type": "stream",
     "text": [
      "2\n",
      "34\n",
      "It is not astogram\n"
     ]
    }
   ],
   "source": [
    "# Astrogram Nu\n",
    "import math\n",
    "a=int(input(\"enter the number:\"))\n",
    "sum1=0\n",
    "c=[int(num) for num in str(a)]\n",
    "d=len(c)\n",
    "print(d)\n",
    "for i in c:\n",
    "    sum1+=pow(i,d)\n",
    "print(sum1)\n",
    "if a==sum1:\n",
    "    print(\"It is astogram\")\n",
    "else:\n",
    "    print(\"It is not astogram\")"
   ]
  },
  {
   "cell_type": "code",
   "execution_count": 30,
   "id": "ab445db8-c004-4ed5-975c-689bc1d84f17",
   "metadata": {},
   "outputs": [
    {
     "name": "stdout",
     "output_type": "stream",
     "text": [
      "10\n"
     ]
    }
   ],
   "source": []
  },
  {
   "cell_type": "code",
   "execution_count": null,
   "id": "5cb63ad1-a011-4487-8bc1-f498fd823c44",
   "metadata": {},
   "outputs": [],
   "source": []
  }
 ],
 "metadata": {
  "kernelspec": {
   "display_name": "Python 3 (ipykernel)",
   "language": "python",
   "name": "python3"
  },
  "language_info": {
   "codemirror_mode": {
    "name": "ipython",
    "version": 3
   },
   "file_extension": ".py",
   "mimetype": "text/x-python",
   "name": "python",
   "nbconvert_exporter": "python",
   "pygments_lexer": "ipython3",
   "version": "3.12.7"
  }
 },
 "nbformat": 4,
 "nbformat_minor": 5
}
