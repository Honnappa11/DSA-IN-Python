{
 "cells": [
  {
   "cell_type": "code",
   "execution_count": 10,
   "id": "3a562199-45e7-4650-8746-31f35ca7cfa9",
   "metadata": {},
   "outputs": [
    {
     "name": "stdout",
     "output_type": "stream",
     "text": [
      "10 --> 40 --> "
     ]
    }
   ],
   "source": [
    "class Node:\n",
    "    def __init__(self,data):\n",
    "        self.data=data\n",
    "        self.next=None\n",
    "class CLL:\n",
    "    def __init__(self):\n",
    "        self.head=None\n",
    "        self.tail=None\n",
    "    def display(self):\n",
    "        if self.head is None:\n",
    "            print(\"empty list\")\n",
    "        else:\n",
    "            temp=self.head\n",
    "            while temp.next !=self.head:\n",
    "                print(temp.data,'-->',end=\" \")\n",
    "                temp=temp.next\n",
    "                print(temp.data,'-->',end=\" \")\n",
    "            print(\n",
    "c=CLL()\n",
    "n1=Node(10)\n",
    "c.head=n1\n",
    "c.tail=n1\n",
    "c.tail.next=c.head\n",
    "n2=Node(40)\n",
    "c.tail.next=n2\n",
    "c.tail=n2\n",
    "c.tail.next=c.head\n",
    "c.display()\n"
   ]
  },
  {
   "cell_type": "code",
   "execution_count": 6,
   "id": "77e43681-854d-4930-b31c-7f40ff8d7e54",
   "metadata": {},
   "outputs": [
    {
     "name": "stdout",
     "output_type": "stream",
     "text": [
      "10 --> 40 --> \n"
     ]
    }
   ],
   "source": [
    "class Node:\n",
    "    def __init__(self, data):\n",
    "        self.data = data\n",
    "        self.next = None\n",
    "\n",
    "class CLL:\n",
    "    def __init__(self):\n",
    "        self.head = None\n",
    "        self.tail = None\n",
    "\n",
    "    def display(self):\n",
    "        if self.head is None:\n",
    "            print(\"empty list\")\n",
    "        else:\n",
    "            temp = self.head\n",
    "            while True:   # loop until we come back to head\n",
    "                print(temp.data, \"-->\", end=\" \")\n",
    "                temp = temp.next\n",
    "                if temp == self.head:\n",
    "                    break\n",
    "            print()\n",
    "\n",
    "c = CLL()\n",
    "n1 = Node(10)\n",
    "c.head = n1\n",
    "c.tail = n1\n",
    "c.tail.next = c.head\n",
    "# circular connection\n",
    "n2 = Node(40)\n",
    "c.tail.next = n2      # connect old tail (10) → new node (40)\n",
    "c.tail = n2           # move tail to new node\n",
    "c.tail.next = c.head  # make it circular again (40 → 10)\n",
    "c.display()\n"
   ]
  },
  {
   "cell_type": "code",
   "execution_count": null,
   "id": "7d8b6061-7635-4265-93dc-52a9282ab83e",
   "metadata": {},
   "outputs": [],
   "source": []
  }
 ],
 "metadata": {
  "kernelspec": {
   "display_name": "Python 3 (ipykernel)",
   "language": "python",
   "name": "python3"
  },
  "language_info": {
   "codemirror_mode": {
    "name": "ipython",
    "version": 3
   },
   "file_extension": ".py",
   "mimetype": "text/x-python",
   "name": "python",
   "nbconvert_exporter": "python",
   "pygments_lexer": "ipython3",
   "version": "3.12.7"
  }
 },
 "nbformat": 4,
 "nbformat_minor": 5
}
