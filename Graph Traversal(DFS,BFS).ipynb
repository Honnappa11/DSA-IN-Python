{
 "cells": [
  {
   "cell_type": "code",
   "execution_count": 10,
   "id": "af0e1182-5132-4fce-8c06-05c66dde5889",
   "metadata": {},
   "outputs": [
    {
     "name": "stdout",
     "output_type": "stream",
     "text": [
      "{'A': [], 'P': [], 'B': [], 'Q': []}\n",
      "{'A': ['B', 'P'], 'P': ['A', 'Q'], 'B': ['A', 'Q'], 'Q': ['B', 'P']}\n",
      "***********************BFS*************\n",
      "A B P Q \n",
      "**********************DFS**************\n",
      "A B Q P P "
     ]
    }
   ],
   "source": [
    "def add_node(v):\n",
    "    if v in graph:\n",
    "        print(v,\"it is already present in graph\")\n",
    "    else:\n",
    "        graph[v]=[]\n",
    "def add_edges(v1,v2):\n",
    "    if v1 not in graph:\n",
    "        print(v1,\"it is not present in graph\")\n",
    "    if v2 not in graph:\n",
    "        print(v2,\"it is not present in graph\")\n",
    "    else:\n",
    "        graph[v1].append(v2)\n",
    "        graph[v2].append(v1)\n",
    "def BFS(v,visited,graph):\n",
    "    if v not in graph:\n",
    "        print(v,\"it is not present in Graph\")\n",
    "    else:\n",
    "        queue=[]\n",
    "        queue.append(v)\n",
    "        visited.add(v)\n",
    "        while queue:\n",
    "            current=queue.pop(0)\n",
    "            print(current,end=\" \")\n",
    "            for i in graph[current]:\n",
    "                if i not in visited:\n",
    "                    queue.append(i)\n",
    "                    visited.add(i)\n",
    "def DFS(v,visited,graph):\n",
    "    if v not in visited:\n",
    "        print(v,end=\" \")\n",
    "        visited1.add(v)\n",
    "        for i in graph[v]:\n",
    "            BFS(i,visited1,graph)\n",
    "visited1=set()\n",
    "visited=set()\n",
    "graph={}\n",
    "add_node(\"A\")\n",
    "add_node(\"P\")\n",
    "add_node(\"B\")\n",
    "add_node(\"Q\")\n",
    "print(graph)\n",
    "add_edges(\"A\",\"B\")\n",
    "add_edges(\"P\",\"A\")\n",
    "add_edges(\"Q\",\"B\")\n",
    "add_edges(\"P\",\"Q\")\n",
    "print(graph)\n",
    "print(\"***********************BFS*************\")\n",
    "BFS(\"A\",visited,graph)\n",
    "print()\n",
    "print(\"**********************DFS**************\")\n",
    "DFS(\"A\",visited1,graph)"
   ]
  },
  {
   "cell_type": "code",
   "execution_count": null,
   "id": "744abee8-211c-431e-a819-57608b92e6e2",
   "metadata": {},
   "outputs": [],
   "source": []
  }
 ],
 "metadata": {
  "kernelspec": {
   "display_name": "Python 3 (ipykernel)",
   "language": "python",
   "name": "python3"
  },
  "language_info": {
   "codemirror_mode": {
    "name": "ipython",
    "version": 3
   },
   "file_extension": ".py",
   "mimetype": "text/x-python",
   "name": "python",
   "nbconvert_exporter": "python",
   "pygments_lexer": "ipython3",
   "version": "3.12.7"
  }
 },
 "nbformat": 4,
 "nbformat_minor": 5
}
