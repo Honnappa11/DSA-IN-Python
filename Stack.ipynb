{
 "cells": [
  {
   "cell_type": "code",
   "execution_count": 1,
   "id": "b27db268-a5af-46c4-a93f-af019db22ecd",
   "metadata": {},
   "outputs": [
    {
     "name": "stdin",
     "output_type": "stream",
     "text": [
      "Enter the Stack Limit 3\n"
     ]
    },
    {
     "name": "stdout",
     "output_type": "stream",
     "text": [
      "Select the Operation 1.Push 2.Pop 3.Quit\n"
     ]
    },
    {
     "name": "stdin",
     "output_type": "stream",
     "text": [
      " 1\n",
      "Enter the Element 45\n"
     ]
    },
    {
     "name": "stdout",
     "output_type": "stream",
     "text": [
      "[45]\n",
      "Select the Operation 1.Push 2.Pop 3.Quit\n"
     ]
    },
    {
     "name": "stdin",
     "output_type": "stream",
     "text": [
      " 1\n",
      "Enter the Element 78\n"
     ]
    },
    {
     "name": "stdout",
     "output_type": "stream",
     "text": [
      "[45, 78]\n",
      "Select the Operation 1.Push 2.Pop 3.Quit\n"
     ]
    },
    {
     "name": "stdin",
     "output_type": "stream",
     "text": [
      " 1\n",
      "Enter the Element 90\n"
     ]
    },
    {
     "name": "stdout",
     "output_type": "stream",
     "text": [
      "[45, 78, 90]\n",
      "Select the Operation 1.Push 2.Pop 3.Quit\n"
     ]
    },
    {
     "name": "stdin",
     "output_type": "stream",
     "text": [
      " 1\n"
     ]
    },
    {
     "name": "stdout",
     "output_type": "stream",
     "text": [
      "Stack is Full\n",
      "Select the Operation 1.Push 2.Pop 3.Quit\n"
     ]
    },
    {
     "name": "stdin",
     "output_type": "stream",
     "text": [
      " 1\n"
     ]
    },
    {
     "name": "stdout",
     "output_type": "stream",
     "text": [
      "Stack is Full\n",
      "Select the Operation 1.Push 2.Pop 3.Quit\n"
     ]
    },
    {
     "name": "stdin",
     "output_type": "stream",
     "text": [
      " 2\n"
     ]
    },
    {
     "name": "stdout",
     "output_type": "stream",
     "text": [
      "Removed element from Stack is =  90\n",
      "[45, 78]\n",
      "Select the Operation 1.Push 2.Pop 3.Quit\n"
     ]
    },
    {
     "name": "stdin",
     "output_type": "stream",
     "text": [
      " 3\n"
     ]
    }
   ],
   "source": [
    "stack=[]\n",
    "\n",
    "def push():\n",
    "\n",
    "    if len(stack)==n:\n",
    "        print(\"Stack is Full\")\n",
    "    else:\n",
    "        \n",
    "        element=int(input(\"Enter the Element\"))\n",
    "        stack.append(element)\n",
    "        print(stack)\n",
    "\n",
    "def pop():\n",
    "\n",
    "    if not stack:\n",
    "        print(\"Stack is empty\")\n",
    "\n",
    "    else:\n",
    "\n",
    "        e=stack.pop()\n",
    "        print(\"Removed element from Stack is = \",e)\n",
    "        print(stack)\n",
    "\n",
    "n=int(input(\"Enter the Stack Limit\"))\n",
    "\n",
    "while True:\n",
    "    print(\"Select the Operation 1.Push 2.Pop 3.Quit\")\n",
    "    choice=int(input())\n",
    "    if choice==1:\n",
    "        push()\n",
    "    elif choice==2:\n",
    "        pop()\n",
    "    elif choice==3:\n",
    "        break\n",
    "    else:\n",
    "        print(\"Enter the Correct Operation\")"
   ]
  },
  {
   "cell_type": "code",
   "execution_count": null,
   "id": "555591dc-8730-45e8-855d-cfb12f7f8b38",
   "metadata": {},
   "outputs": [],
   "source": []
  }
 ],
 "metadata": {
  "kernelspec": {
   "display_name": "Python 3 (ipykernel)",
   "language": "python",
   "name": "python3"
  },
  "language_info": {
   "codemirror_mode": {
    "name": "ipython",
    "version": 3
   },
   "file_extension": ".py",
   "mimetype": "text/x-python",
   "name": "python",
   "nbconvert_exporter": "python",
   "pygments_lexer": "ipython3",
   "version": "3.12.7"
  }
 },
 "nbformat": 4,
 "nbformat_minor": 5
}
