{
 "cells": [
  {
   "cell_type": "code",
   "execution_count": 9,
   "id": "3b2c31f8-734e-425c-9820-4ed452a8fcb7",
   "metadata": {},
   "outputs": [
    {
     "name": "stdout",
     "output_type": "stream",
     "text": [
      "Before adding nodes\n",
      "[]\n",
      "[]\n",
      "After adding nodes\n",
      "nodes: ['A', 'B']\n",
      "[[0, 0], [0, 0]]\n",
      "------------\n",
      "Matrix:\n",
      "0 0 \n",
      "0 0 \n"
     ]
    }
   ],
   "source": [
    "def graph_node(v):\n",
    "    global node_count\n",
    "    if v in nodes:\n",
    "        print(v,\"is already presentt in graph\")\n",
    "    else:\n",
    "        node_count=node_count+1\n",
    "        nodes.append(v)\n",
    "        for i in graph:\n",
    "            i.append(0)\n",
    "        temp=[]\n",
    "        for i in range(node_count):\n",
    "            temp.append(0)\n",
    "        graph.append(temp)\n",
    "def print_graph():\n",
    "    for i in range(node_count):\n",
    "        for j in range(node_count):\n",
    "            print(graph[i][j],end=\" \")\n",
    "        print()\n",
    "        \n",
    "nodes=[]\n",
    "graph=[]\n",
    "node_count=0\n",
    "print(\"Before adding nodes\")\n",
    "print(nodes)\n",
    "print(graph)\n",
    "graph_node(\"A\")\n",
    "graph_node(\"B\")\n",
    "print(\"After adding nodes\")\n",
    "print(\"nodes:\",nodes)\n",
    "print(graph)\n",
    "print('------------')\n",
    "print(\"Matrix:\")\n",
    "print_graph()\n",
    "    "
   ]
  },
  {
   "cell_type": "code",
   "execution_count": null,
   "id": "71319b16-4633-410b-af8e-57fe6dc8e10b",
   "metadata": {},
   "outputs": [],
   "source": []
  }
 ],
 "metadata": {
  "kernelspec": {
   "display_name": "Python 3 (ipykernel)",
   "language": "python",
   "name": "python3"
  },
  "language_info": {
   "codemirror_mode": {
    "name": "ipython",
    "version": 3
   },
   "file_extension": ".py",
   "mimetype": "text/x-python",
   "name": "python",
   "nbconvert_exporter": "python",
   "pygments_lexer": "ipython3",
   "version": "3.12.7"
  }
 },
 "nbformat": 4,
 "nbformat_minor": 5
}
