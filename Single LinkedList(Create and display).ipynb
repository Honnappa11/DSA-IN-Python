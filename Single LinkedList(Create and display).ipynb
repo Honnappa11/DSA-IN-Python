{
 "cells": [
  {
   "cell_type": "code",
   "execution_count": 1,
   "id": "7149ffa6-ae1e-4311-8610-a2a15b64856f",
   "metadata": {},
   "outputs": [
    {
     "name": "stdout",
     "output_type": "stream",
     "text": [
      "(10,) ---> (20,) ---> "
     ]
    }
   ],
   "source": [
    "class Node:\n",
    "\n",
    "    def __init__(self,data):\n",
    "\n",
    "        self.data=data,\n",
    "        self.next=None\n",
    "        \n",
    "class LinkedList:\n",
    "\n",
    "    def __init__(self):\n",
    "\n",
    "        self.head=None\n",
    "        \n",
    "    def display(self):\n",
    "\n",
    "        if self.head is None:\n",
    "\n",
    "            print(\"Linked list is empty\")\n",
    "        else:\n",
    "            temp=self.head\n",
    "            while temp:\n",
    "\n",
    "                print(temp.data,\"--->\",end=\" \")\n",
    "                \n",
    "                temp=temp.next\n",
    "        \n",
    "    \n",
    "L1=LinkedList()\n",
    "n1=Node(10)\n",
    "L1.head=n1\n",
    "n2=Node(20)\n",
    "L1.head.next=n2\n",
    "n3=Node(30)\n",
    "n2\n",
    "L1.display()\n",
    "\n"
   ]
  },
  {
   "cell_type": "code",
   "execution_count": null,
   "id": "483c8460-76ab-4ad6-a878-7cbca6d4cbaa",
   "metadata": {},
   "outputs": [],
   "source": []
  }
 ],
 "metadata": {
  "kernelspec": {
   "display_name": "Python 3 (ipykernel)",
   "language": "python",
   "name": "python3"
  },
  "language_info": {
   "codemirror_mode": {
    "name": "ipython",
    "version": 3
   },
   "file_extension": ".py",
   "mimetype": "text/x-python",
   "name": "python",
   "nbconvert_exporter": "python",
   "pygments_lexer": "ipython3",
   "version": "3.12.7"
  }
 },
 "nbformat": 4,
 "nbformat_minor": 5
}
