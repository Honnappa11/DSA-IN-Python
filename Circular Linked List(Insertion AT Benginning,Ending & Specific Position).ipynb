{
 "cells": [
  {
   "cell_type": "code",
   "execution_count": 15,
   "id": "521ef727-3910-4102-a409-bc498d1f1d95",
   "metadata": {},
   "outputs": [
    {
     "name": "stdout",
     "output_type": "stream",
     "text": [
      "50 --> 900 --> 4 --> 90 --> 1000 --> 100 --> 200 --> 50\n"
     ]
    }
   ],
   "source": [
    "class Node:\n",
    "    def __init__(self,data):\n",
    "        self.data=data\n",
    "        self.next=None\n",
    "class CLL:\n",
    "    def __init__(self):\n",
    "        self.head=None\n",
    "        self.tail=None\n",
    "    def insert_front(self,data):\n",
    "        nb=Node(data)\n",
    "        if self.head is None:\n",
    "            self.head=nb\n",
    "            self.tail=nb\n",
    "            self.tail.next=self.head\n",
    "        else:\n",
    "            nb.next=self.head\n",
    "            self.tail.next=nb\n",
    "            self.head=nb\n",
    "    def insert_end(self,data):\n",
    "        ne=Node(data)\n",
    "        if self.head is None:\n",
    "            self.head=ne\n",
    "            self.tail=ne\n",
    "            self.tail.next=self.head\n",
    "        else:\n",
    "            self.tail.next=ne\n",
    "            self.tail=ne\n",
    "            self.tail.next=self.head\n",
    "    def insert_position(self,pos,data):\n",
    "        np=Node(data)\n",
    "        if pos==1:\n",
    "            insert_position(data)\n",
    "        else:\n",
    "            temp=self.head\n",
    "            for i in range(1,pos-1):\n",
    "                temp=temp.next\n",
    "            np.next=temp.next\n",
    "            temp.next=np\n",
    "                \n",
    "    def display(self):\n",
    "        if self.head is None:\n",
    "            print(\"empty list\")\n",
    "        else:\n",
    "            temp=self.head\n",
    "            print(temp.data,'-->',end=\" \")\n",
    "            while temp.next != self.head:\n",
    "                temp=temp.next\n",
    "                print(temp.data,'-->',end=\" \")\n",
    "            print(temp.next.data)\n",
    "c=CLL()\n",
    "c.insert_front(90)\n",
    "c.insert_front(4)\n",
    "c.insert_front(50)\n",
    "c.insert_end(100)\n",
    "c.insert_end(200)\n",
    "c.insert_position(2,900)\n",
    "c.insert_position(5,1000)\n",
    "c.display()"
   ]
  },
  {
   "cell_type": "code",
   "execution_count": null,
   "id": "855175b6-f3e9-48b7-8ddb-8dae9f4dbf77",
   "metadata": {},
   "outputs": [],
   "source": []
  }
 ],
 "metadata": {
  "kernelspec": {
   "display_name": "Python 3 (ipykernel)",
   "language": "python",
   "name": "python3"
  },
  "language_info": {
   "codemirror_mode": {
    "name": "ipython",
    "version": 3
   },
   "file_extension": ".py",
   "mimetype": "text/x-python",
   "name": "python",
   "nbconvert_exporter": "python",
   "pygments_lexer": "ipython3",
   "version": "3.12.7"
  }
 },
 "nbformat": 4,
 "nbformat_minor": 5
}
