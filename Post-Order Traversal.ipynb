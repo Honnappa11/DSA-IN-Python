{
 "cells": [
  {
   "cell_type": "code",
   "execution_count": null,
   "id": "a7b80f7f-3fa7-4b55-8999-b005442bb0e7",
   "metadata": {},
   "outputs": [],
   "source": [
    "class BST:\n",
    "    def __init__(self,key):\n",
    "        self.key=key\n",
    "        self.lchild=None\n",
    "        self.rchild=None\n",
    "    def insertion(self,data):\n",
    "        if self.key is None:\n",
    "            self.key=data\n",
    "            return\n",
    "        if self.key==data:\n",
    "            return\n",
    "        if self.key > data:\n",
    "            if self.lchild:\n",
    "                self.lchild.insertion(data)\n",
    "            else:\n",
    "                self.lchild=BST(data)\n",
    "        else:\n",
    "            if self.rchild:\n",
    "                self.rchild.insertion(data)\n",
    "            else:\n",
    "                self.rchild=BST(data)\n",
    "    def postorder(self,data):\n",
    "        if self.lchild:\n",
    "            self.lchild.postorder()\n",
    "        if self.rchild:\n",
    "            self.rchild.postorder()\n",
    "        print(self.key,end=\" \")\n",
    "root=BST(10)\n",
    "list1=[45,8,2,4,5,67,90,15]\n",
    "for i in list1:\n",
    "    root.insertion(i)\n",
    "    "
   ]
  }
 ],
 "metadata": {
  "kernelspec": {
   "display_name": "Python 3 (ipykernel)",
   "language": "python",
   "name": "python3"
  },
  "language_info": {
   "codemirror_mode": {
    "name": "ipython",
    "version": 3
   },
   "file_extension": ".py",
   "mimetype": "text/x-python",
   "name": "python",
   "nbconvert_exporter": "python",
   "pygments_lexer": "ipython3",
   "version": "3.12.7"
  }
 },
 "nbformat": 4,
 "nbformat_minor": 5
}
