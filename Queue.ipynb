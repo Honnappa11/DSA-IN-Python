{
 "cells": [
  {
   "cell_type": "code",
   "execution_count": 5,
   "id": "45847186-a07e-43ce-95f9-84c262473b51",
   "metadata": {},
   "outputs": [
    {
     "name": "stdout",
     "output_type": "stream",
     "text": [
      "Select the Operation\n",
      "    1.Enqueue\n",
      "    2.Dequeue\n",
      "    3.Display\n",
      "    4.Quit\n"
     ]
    },
    {
     "name": "stdin",
     "output_type": "stream",
     "text": [
      " 1\n",
      "enter the element 80\n"
     ]
    },
    {
     "name": "stdout",
     "output_type": "stream",
     "text": [
      "80 added to the queue\n",
      "----------------------------\n",
      "Select the Operation\n",
      "    1.Enqueue\n",
      "    2.Dequeue\n",
      "    3.Display\n",
      "    4.Quit\n"
     ]
    },
    {
     "name": "stdin",
     "output_type": "stream",
     "text": [
      " 1\n",
      "enter the element 70\n"
     ]
    },
    {
     "name": "stdout",
     "output_type": "stream",
     "text": [
      "70 added to the queue\n",
      "----------------------------\n",
      "Select the Operation\n",
      "    1.Enqueue\n",
      "    2.Dequeue\n",
      "    3.Display\n",
      "    4.Quit\n"
     ]
    },
    {
     "name": "stdin",
     "output_type": "stream",
     "text": [
      " 2\n"
     ]
    },
    {
     "name": "stdout",
     "output_type": "stream",
     "text": [
      "80 removed from the queue\n",
      "--------------------------\n",
      "Select the Operation\n",
      "    1.Enqueue\n",
      "    2.Dequeue\n",
      "    3.Display\n",
      "    4.Quit\n"
     ]
    },
    {
     "name": "stdin",
     "output_type": "stream",
     "text": [
      " 2\n"
     ]
    },
    {
     "name": "stdout",
     "output_type": "stream",
     "text": [
      "70 removed from the queue\n",
      "--------------------------\n",
      "Select the Operation\n",
      "    1.Enqueue\n",
      "    2.Dequeue\n",
      "    3.Display\n",
      "    4.Quit\n"
     ]
    },
    {
     "name": "stdin",
     "output_type": "stream",
     "text": [
      " 2\n"
     ]
    },
    {
     "name": "stdout",
     "output_type": "stream",
     "text": [
      "Queue is empty\n",
      "Select the Operation\n",
      "    1.Enqueue\n",
      "    2.Dequeue\n",
      "    3.Display\n",
      "    4.Quit\n"
     ]
    },
    {
     "name": "stdin",
     "output_type": "stream",
     "text": [
      " 4\n"
     ]
    }
   ],
   "source": [
    "queue=[]\n",
    "\n",
    "def enqueue():\n",
    "\n",
    "    element=int(input('enter the element'))\n",
    "    queue.append(element)\n",
    "    print(element,\"added to the queue\")\n",
    "    print('----------------------------')\n",
    "\n",
    "def dequeue():\n",
    "\n",
    "    if not queue:\n",
    "        print(\"Queue is empty\")\n",
    "    else:\n",
    "        \n",
    "\n",
    "        e=queue.pop(0)\n",
    "        print(e,\"removed from the queue\")\n",
    "        print('--------------------------')\n",
    "\n",
    "def display():\n",
    "    print(queue)\n",
    "    print('------------------------------')\n",
    "\n",
    "while True:\n",
    "    print(\"\"\"Select the Operation\n",
    "    1.Enqueue\n",
    "    2.Dequeue\n",
    "    3.Display\n",
    "    4.Quit\"\"\")\n",
    "    choice=int(input())\n",
    "    if choice == 1:\n",
    "        enqueue()\n",
    "    elif choice ==2:\n",
    "        dequeue()\n",
    "    elif choice == 3:\n",
    "        display()\n",
    "    elif choice == 4:\n",
    "        break\n",
    "    else:\n",
    "        print(\"Select the Correct Operation\")\n"
   ]
  },
  {
   "cell_type": "code",
   "execution_count": 14,
   "id": "755a7d28-be29-4b80-b875-dc50719e9b49",
   "metadata": {},
   "outputs": [
    {
     "name": "stdout",
     "output_type": "stream",
     "text": [
      " Select the operations\n",
      "           1.Enqueue to the Right(Rear) Side\n",
      "           2.Enqueue to the Left(Front) Side\n",
      "           3.Dequeue to the Right(Rear) Side\n",
      "           4.Dequeue to the Left(Front) Side\n",
      "           5.Display\n",
      "           6.Quit\n",
      "           \n"
     ]
    },
    {
     "name": "stdin",
     "output_type": "stream",
     "text": [
      " 1\n",
      "enter the element to the right(rear) side of the queue 90\n"
     ]
    },
    {
     "name": "stdout",
     "output_type": "stream",
     "text": [
      "90  added to the right side of the queue\n",
      "--------------------------------------------------\n",
      " Select the operations\n",
      "           1.Enqueue to the Right(Rear) Side\n",
      "           2.Enqueue to the Left(Front) Side\n",
      "           3.Dequeue to the Right(Rear) Side\n",
      "           4.Dequeue to the Left(Front) Side\n",
      "           5.Display\n",
      "           6.Quit\n",
      "           \n"
     ]
    },
    {
     "name": "stdin",
     "output_type": "stream",
     "text": [
      " 2\n",
      "enter the element to the left (front) side of the queue 60\n"
     ]
    },
    {
     "name": "stdout",
     "output_type": "stream",
     "text": [
      "60 added to left side of the queue\n",
      "------------------------------------------\n",
      " Select the operations\n",
      "           1.Enqueue to the Right(Rear) Side\n",
      "           2.Enqueue to the Left(Front) Side\n",
      "           3.Dequeue to the Right(Rear) Side\n",
      "           4.Dequeue to the Left(Front) Side\n",
      "           5.Display\n",
      "           6.Quit\n",
      "           \n"
     ]
    },
    {
     "name": "stdin",
     "output_type": "stream",
     "text": [
      " 2\n",
      "enter the element to the left (front) side of the queue 876\n"
     ]
    },
    {
     "name": "stdout",
     "output_type": "stream",
     "text": [
      "876 added to left side of the queue\n",
      "------------------------------------------\n",
      " Select the operations\n",
      "           1.Enqueue to the Right(Rear) Side\n",
      "           2.Enqueue to the Left(Front) Side\n",
      "           3.Dequeue to the Right(Rear) Side\n",
      "           4.Dequeue to the Left(Front) Side\n",
      "           5.Display\n",
      "           6.Quit\n",
      "           \n"
     ]
    },
    {
     "name": "stdin",
     "output_type": "stream",
     "text": [
      " 1\n",
      "enter the element to the right(rear) side of the queue 89\n"
     ]
    },
    {
     "name": "stdout",
     "output_type": "stream",
     "text": [
      "89  added to the right side of the queue\n",
      "--------------------------------------------------\n",
      " Select the operations\n",
      "           1.Enqueue to the Right(Rear) Side\n",
      "           2.Enqueue to the Left(Front) Side\n",
      "           3.Dequeue to the Right(Rear) Side\n",
      "           4.Dequeue to the Left(Front) Side\n",
      "           5.Display\n",
      "           6.Quit\n",
      "           \n"
     ]
    },
    {
     "name": "stdin",
     "output_type": "stream",
     "text": [
      " 5\n"
     ]
    },
    {
     "name": "stdout",
     "output_type": "stream",
     "text": [
      "deque([90, 60, 876, 89])\n",
      "--------------------------\n",
      " Select the operations\n",
      "           1.Enqueue to the Right(Rear) Side\n",
      "           2.Enqueue to the Left(Front) Side\n",
      "           3.Dequeue to the Right(Rear) Side\n",
      "           4.Dequeue to the Left(Front) Side\n",
      "           5.Display\n",
      "           6.Quit\n",
      "           \n"
     ]
    },
    {
     "name": "stdin",
     "output_type": "stream",
     "text": [
      " 3\n"
     ]
    },
    {
     "name": "stdout",
     "output_type": "stream",
     "text": [
      "89 removed from the right(rear) side of the queue\n",
      "----------------------------------------------\n",
      " Select the operations\n",
      "           1.Enqueue to the Right(Rear) Side\n",
      "           2.Enqueue to the Left(Front) Side\n",
      "           3.Dequeue to the Right(Rear) Side\n",
      "           4.Dequeue to the Left(Front) Side\n",
      "           5.Display\n",
      "           6.Quit\n",
      "           \n"
     ]
    },
    {
     "name": "stdin",
     "output_type": "stream",
     "text": [
      " 4\n"
     ]
    },
    {
     "name": "stdout",
     "output_type": "stream",
     "text": [
      "90 removed from the left(front) side of the queue\n",
      "----------------------------------------------\n",
      " Select the operations\n",
      "           1.Enqueue to the Right(Rear) Side\n",
      "           2.Enqueue to the Left(Front) Side\n",
      "           3.Dequeue to the Right(Rear) Side\n",
      "           4.Dequeue to the Left(Front) Side\n",
      "           5.Display\n",
      "           6.Quit\n",
      "           \n"
     ]
    },
    {
     "name": "stdin",
     "output_type": "stream",
     "text": [
      " 5\n"
     ]
    },
    {
     "name": "stdout",
     "output_type": "stream",
     "text": [
      "deque([60, 876])\n",
      "--------------------------\n",
      " Select the operations\n",
      "           1.Enqueue to the Right(Rear) Side\n",
      "           2.Enqueue to the Left(Front) Side\n",
      "           3.Dequeue to the Right(Rear) Side\n",
      "           4.Dequeue to the Left(Front) Side\n",
      "           5.Display\n",
      "           6.Quit\n",
      "           \n"
     ]
    },
    {
     "name": "stdin",
     "output_type": "stream",
     "text": [
      " 6\n"
     ]
    }
   ],
   "source": [
    "import collections\n",
    "queue=collections.deque()\n",
    "\n",
    "def append_right():\n",
    "\n",
    "    element=int(input(\"enter the element to the right(rear) side of the queue\"))\n",
    "    queue.append(element)\n",
    "    print(element,\" added to the right side of the queue\")\n",
    "    print(\"--------------------------------------------------\")\n",
    "\n",
    "def append_left():\n",
    "\n",
    "    element=int(input(\"enter the element to the left (front) side of the queue\"))\n",
    "    queue.append(element)\n",
    "    print(element,\"added to left side of the queue\")\n",
    "    print(\"------------------------------------------\")\n",
    "\n",
    "def pop_right():\n",
    "\n",
    "    if not queue:\n",
    "        print(\"Queue is Empty\")\n",
    "        print('-------------------')\n",
    "    else:\n",
    "        \n",
    "\n",
    "        e=queue.pop()\n",
    "        print(e,\"removed from the right(rear) side of the queue\")\n",
    "        print('----------------------------------------------')\n",
    "\n",
    "def pop_left():\n",
    "    if not queue:\n",
    "        print(\"Queue is Empty\")\n",
    "        print('------------------------')\n",
    "    else:\n",
    "        \n",
    "\n",
    "        e=queue.popleft()\n",
    "        print(e,\"removed from the left(front) side of the queue\")\n",
    "        print('----------------------------------------------')\n",
    "\n",
    "def display():\n",
    "    print(queue)\n",
    "    print('--------------------------')\n",
    "\n",
    "while True:\n",
    "\n",
    "    print(\"\"\" Select the operations\n",
    "           1.Enqueue to the Right(Rear) Side\n",
    "           2.Enqueue to the Left(Front) Side\n",
    "           3.Dequeue to the Right(Rear) Side\n",
    "           4.Dequeue to the Left(Front) Side\n",
    "           5.Display\n",
    "           6.Quit\n",
    "           \"\"\")\n",
    "    choice=int(input())\n",
    "    if choice==1:\n",
    "        append_right()\n",
    "    elif choice == 2:\n",
    "        append_left()\n",
    "    elif choice ==3:\n",
    "        pop_right()\n",
    "    elif choice==4:\n",
    "        pop_left()\n",
    "    elif choice==5:\n",
    "        display()\n",
    "    elif choice==6:\n",
    "        break\n",
    "    else:\n",
    "        print(\"Choose Correct Operation\")\n",
    "                    \n",
    "    "
   ]
  },
  {
   "cell_type": "code",
   "execution_count": null,
   "id": "c2392c29-26ea-4740-ae03-b49fdc27f9fd",
   "metadata": {},
   "outputs": [],
   "source": []
  }
 ],
 "metadata": {
  "kernelspec": {
   "display_name": "Python 3 (ipykernel)",
   "language": "python",
   "name": "python3"
  },
  "language_info": {
   "codemirror_mode": {
    "name": "ipython",
    "version": 3
   },
   "file_extension": ".py",
   "mimetype": "text/x-python",
   "name": "python",
   "nbconvert_exporter": "python",
   "pygments_lexer": "ipython3",
   "version": "3.12.7"
  }
 },
 "nbformat": 4,
 "nbformat_minor": 5
}
